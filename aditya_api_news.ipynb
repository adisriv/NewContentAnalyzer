{
 "cells": [
  {
   "cell_type": "code",
   "execution_count": null,
   "metadata": {},
   "outputs": [],
   "source": [
    "import aylien_news_api\n",
    "from aylien_news_api.rest import ApiException\n",
    "\n",
    "# Configure API key authorization: app_id\n",
    "aylien_news_api.configuration.api_key['X-AYLIEN-NewsAPI-Application-ID'] = 'df5679cc'\n",
    "# Configure API key authorization: app_key\n",
    "aylien_news_api.configuration.api_key['X-AYLIEN-NewsAPI-Application-Key'] = 'e2f8738f0d755f3e12d90877a54de574'\n",
    "\n",
    "# create an instance of the API class\n",
    "api_instance = aylien_news_api.DefaultApi()\n",
    "\n",
    "title = 'trump'\n",
    "sort_by = 'social_shares_count.facebook'\n",
    "language = ['en']\n",
    "since = 'NOW-7DAYS'\n",
    "until = 'NOW'\n",
    "entities = [\n",
    "    'http://dbpedia.org/resource/Donald_Trump',\n",
    "    'http://dbpedia.org/resource/Hillary_Rodham_Clinton'\n",
    "]\n",
    "\n",
    "try:\n",
    "    # List stories\n",
    "    api_response = api_instance.list_stories(title=title, language=language, published_at_start=since, published_at_end=until, entities_body_links_dbpedia=entities, sort_by=sort_by)\n",
    "    print(api_response)\n",
    "except ApiException as e:\n",
    "    print(\"Exception when calling DefaultApi->list_stories: %s\\n\" % e)\n",
    "\n",
    "    #print('API called successfully. Rate limit headers are as follows:')\n",
    "    #print(\"X-RateLimit-Limit: %s\" % api_response[2]['X-RateLimit-Limit'])\n",
    "    #print(\"X-RateLimit-Remaining: %s\" % api_response[2]['X-RateLimit-Remaining'])\n",
    "    #print(\"X-RateLimit-Reset: %s\" % api_response[2]['X-RateLimit-Reset'])"
   ]
  },
  {
   "cell_type": "code",
   "execution_count": null,
   "metadata": {},
   "outputs": [],
   "source": []
  }
 ],
 "metadata": {
  "kernelspec": {
   "display_name": "Python 3",
   "language": "python",
   "name": "python3"
  },
  "language_info": {
   "codemirror_mode": {
    "name": "ipython",
    "version": 3
   },
   "file_extension": ".py",
   "mimetype": "text/x-python",
   "name": "python",
   "nbconvert_exporter": "python",
   "pygments_lexer": "ipython3",
   "version": "3.7.3"
  }
 },
 "nbformat": 4,
 "nbformat_minor": 2
}
