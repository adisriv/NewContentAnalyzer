{
 "cells": [
  {
   "cell_type": "code",
   "execution_count": null,
   "metadata": {},
   "outputs": [],
   "source": [
    "from eventregistry import *\n",
    "import json"
   ]
  },
  {
   "cell_type": "markdown",
   "metadata": {},
   "source": [
    "# 1. Pull from API"
   ]
  },
  {
   "cell_type": "code",
   "execution_count": null,
   "metadata": {},
   "outputs": [],
   "source": [
    "MY_API_KEY = 'YOUR_API_KEY'\n",
    "\n",
    "er = EventRegistry(apiKey = MY_API_KEY)\n",
    "# q = QueryArticlesIter(conceptUri = er.getConceptUri(\"Xi Jinping\"),lang=\"eng\",dataType=\"news\",sourceUri=QueryItems.OR([\n",
    "#     er.getNewsSourceUri(\"nytimes.com\"),\n",
    "#     er.getNewsSourceUri(\"wsj.com\")\n",
    "# ]))\n",
    "q = QueryArticlesIter(conceptUri = er.getConceptUri(\"trade war\"),lang=\"eng\",dataType=\"news\",sourceUri=\"nytimes.com\")\n",
    "\n",
    "articles = []\n",
    "first = True\n",
    "bad_prefix = set()\n",
    "bad_prefix.add(\"On Politics:\")\n",
    "bad_prefix.add(\"DealBook Briefing:\")\n",
    "bad_suffix = set()\n",
    "bad_suffix.add(\"Briefing\")\n",
    "\n",
    "size = 35\n",
    "counter = 0\n",
    "for art in q.execQuery(er, sortBy = \"date\", maxItems=60):\n",
    "    if size == counter:\n",
    "        break\n",
    "    if len(art['body']) > 3000 and not (art['title'].startswith(tuple(bad_prefix)) or art['title'].endswith(tuple(bad_suffix))):\n",
    "        counter += 1\n",
    "        articles.append(art)"
   ]
  },
  {
   "cell_type": "markdown",
   "metadata": {},
   "source": [
    "# 1a. Pull article manually"
   ]
  },
  {
   "cell_type": "code",
   "execution_count": null,
   "metadata": {},
   "outputs": [],
   "source": [
    "# new_articles = []"
   ]
  },
  {
   "cell_type": "code",
   "execution_count": null,
   "metadata": {},
   "outputs": [],
   "source": [
    "# article = {}\n",
    "# article['body'] = \"\"\n",
    "# article['date'] = \"YYYY-MM-DD\"\n",
    "# article['url'] = \"\"\n",
    "# article['title'] = \"\"\n",
    "\n",
    "# #Deault values\n",
    "# article['authors'] = []\n",
    "# article['dataType'] = 'news'\n",
    "# article['dateTime'] = None\n",
    "# article['eventUri'] = None\n",
    "# article['image'] = None\n",
    "# article['idDuplicate'] = False\n",
    "# article['lang'] = \"eng\"\n",
    "# article['sentiment'] = None\n",
    "# article['sim'] = None\n",
    "# article['source'] = None\n",
    "# article['time'] = None\n",
    "# article['uri'] = None\n",
    "# article['wgt'] = None\n",
    "# new_articles.append(article)"
   ]
  },
  {
   "cell_type": "code",
   "execution_count": null,
   "metadata": {},
   "outputs": [],
   "source": [
    "# new_articles.extend(articles)\n",
    "# articles = None\n",
    "# articles = new_articles"
   ]
  },
  {
   "cell_type": "markdown",
   "metadata": {},
   "source": [
    "# 2. Dump to json file"
   ]
  },
  {
   "cell_type": "code",
   "execution_count": null,
   "metadata": {},
   "outputs": [],
   "source": [
    "filename = 'YOUR_FILE_NAME.txt'\n",
    "folder_name = 'YOUR_FOLDER_NAME'\n",
    "with open(folder_name + '/' + filename, 'w') as outfile:\n",
    "    json.dump(articles, outfile)"
   ]
  }
 ],
 "metadata": {
  "kernelspec": {
   "display_name": "Python 3",
   "language": "python",
   "name": "python3"
  },
  "language_info": {
   "codemirror_mode": {
    "name": "ipython",
    "version": 3
   },
   "file_extension": ".py",
   "mimetype": "text/x-python",
   "name": "python",
   "nbconvert_exporter": "python",
   "pygments_lexer": "ipython3",
   "version": "3.7.1"
  }
 },
 "nbformat": 4,
 "nbformat_minor": 2
}
